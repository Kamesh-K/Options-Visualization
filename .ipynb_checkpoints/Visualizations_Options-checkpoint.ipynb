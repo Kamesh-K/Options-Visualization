{
 "cells": [
  {
   "cell_type": "code",
   "execution_count": 1,
   "metadata": {},
   "outputs": [],
   "source": [
    "import numpy as np\n",
    "import matplotlib.pyplot as plt "
   ]
  },
  {
   "cell_type": "code",
   "execution_count": null,
   "metadata": {},
   "outputs": [],
   "source": [
    "# The Simulaltion is performed for a Draft deal and data is obtained from the FM Converge Draft of the option\n",
    "# The trade deal is USDJPY with the following setup\n",
    "Strike_price = 108.1035\n",
    "Spot_price = 108.1035\n",
    "Volatility = 6.4/100\n",
    "r_d = 0.12297945/100\n",
    "r_f = 1.95487502/100\n",
    "T_expiry = 90"
   ]
  }
 ],
 "metadata": {
  "kernelspec": {
   "display_name": "Python ML",
   "language": "python",
   "name": "ml"
  },
  "language_info": {
   "codemirror_mode": {
    "name": "ipython",
    "version": 3
   },
   "file_extension": ".py",
   "mimetype": "text/x-python",
   "name": "python",
   "nbconvert_exporter": "python",
   "pygments_lexer": "ipython3",
   "version": "3.7.7"
  }
 },
 "nbformat": 4,
 "nbformat_minor": 4
}
